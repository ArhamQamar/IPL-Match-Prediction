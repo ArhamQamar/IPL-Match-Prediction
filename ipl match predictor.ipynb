{
 "cells": [
  {
   "cell_type": "code",
   "execution_count": 1,
   "id": "75aaee2e",
   "metadata": {},
   "outputs": [],
   "source": [
    "import numpy as np\n",
    "import pandas as pd \n",
    "import matplotlib.pyplot as plt\n",
    "import seaborn as sns\n",
    "from sklearn.model_selection import train_test_split\n",
    "from sklearn.metrics import confusion_matrix \n",
    "from sklearn.metrics import classification_report\n",
    "from sklearn.ensemble import RandomForestClassifier\n",
    "from sklearn.linear_model import LogisticRegression \n",
    "from sklearn.svm import SVC \n",
    "from sklearn.metrics import accuracy_score "
   ]
  },
  {
   "cell_type": "code",
   "execution_count": 2,
   "id": "4a8472ab",
   "metadata": {},
   "outputs": [
    {
     "data": {
      "text/html": [
       "<div>\n",
       "<style scoped>\n",
       "    .dataframe tbody tr th:only-of-type {\n",
       "        vertical-align: middle;\n",
       "    }\n",
       "\n",
       "    .dataframe tbody tr th {\n",
       "        vertical-align: top;\n",
       "    }\n",
       "\n",
       "    .dataframe thead th {\n",
       "        text-align: right;\n",
       "    }\n",
       "</style>\n",
       "<table border=\"1\" class=\"dataframe\">\n",
       "  <thead>\n",
       "    <tr style=\"text-align: right;\">\n",
       "      <th></th>\n",
       "      <th>id</th>\n",
       "      <th>city</th>\n",
       "      <th>date</th>\n",
       "      <th>player_of_match</th>\n",
       "      <th>venue</th>\n",
       "      <th>neutral_venue</th>\n",
       "      <th>team1</th>\n",
       "      <th>team2</th>\n",
       "      <th>toss_winner</th>\n",
       "      <th>toss_decision</th>\n",
       "      <th>winner</th>\n",
       "      <th>result</th>\n",
       "      <th>result_margin</th>\n",
       "      <th>eliminator</th>\n",
       "      <th>method</th>\n",
       "      <th>umpire1</th>\n",
       "      <th>umpire2</th>\n",
       "    </tr>\n",
       "  </thead>\n",
       "  <tbody>\n",
       "    <tr>\n",
       "      <th>0</th>\n",
       "      <td>335982</td>\n",
       "      <td>Bangalore</td>\n",
       "      <td>2008-04-18</td>\n",
       "      <td>BB McCullum</td>\n",
       "      <td>M Chinnaswamy Stadium</td>\n",
       "      <td>0</td>\n",
       "      <td>Royal Challengers Bangalore</td>\n",
       "      <td>Kolkata Knight Riders</td>\n",
       "      <td>Royal Challengers Bangalore</td>\n",
       "      <td>field</td>\n",
       "      <td>Kolkata Knight Riders</td>\n",
       "      <td>runs</td>\n",
       "      <td>140.0</td>\n",
       "      <td>N</td>\n",
       "      <td>NaN</td>\n",
       "      <td>Asad Rauf</td>\n",
       "      <td>RE Koertzen</td>\n",
       "    </tr>\n",
       "    <tr>\n",
       "      <th>1</th>\n",
       "      <td>335983</td>\n",
       "      <td>Chandigarh</td>\n",
       "      <td>2008-04-19</td>\n",
       "      <td>MEK Hussey</td>\n",
       "      <td>Punjab Cricket Association Stadium, Mohali</td>\n",
       "      <td>0</td>\n",
       "      <td>Kings XI Punjab</td>\n",
       "      <td>Chennai Super Kings</td>\n",
       "      <td>Chennai Super Kings</td>\n",
       "      <td>bat</td>\n",
       "      <td>Chennai Super Kings</td>\n",
       "      <td>runs</td>\n",
       "      <td>33.0</td>\n",
       "      <td>N</td>\n",
       "      <td>NaN</td>\n",
       "      <td>MR Benson</td>\n",
       "      <td>SL Shastri</td>\n",
       "    </tr>\n",
       "    <tr>\n",
       "      <th>2</th>\n",
       "      <td>335984</td>\n",
       "      <td>Delhi</td>\n",
       "      <td>2008-04-19</td>\n",
       "      <td>MF Maharoof</td>\n",
       "      <td>Feroz Shah Kotla</td>\n",
       "      <td>0</td>\n",
       "      <td>Delhi Daredevils</td>\n",
       "      <td>Rajasthan Royals</td>\n",
       "      <td>Rajasthan Royals</td>\n",
       "      <td>bat</td>\n",
       "      <td>Delhi Daredevils</td>\n",
       "      <td>wickets</td>\n",
       "      <td>9.0</td>\n",
       "      <td>N</td>\n",
       "      <td>NaN</td>\n",
       "      <td>Aleem Dar</td>\n",
       "      <td>GA Pratapkumar</td>\n",
       "    </tr>\n",
       "    <tr>\n",
       "      <th>3</th>\n",
       "      <td>335985</td>\n",
       "      <td>Mumbai</td>\n",
       "      <td>2008-04-20</td>\n",
       "      <td>MV Boucher</td>\n",
       "      <td>Wankhede Stadium</td>\n",
       "      <td>0</td>\n",
       "      <td>Mumbai Indians</td>\n",
       "      <td>Royal Challengers Bangalore</td>\n",
       "      <td>Mumbai Indians</td>\n",
       "      <td>bat</td>\n",
       "      <td>Royal Challengers Bangalore</td>\n",
       "      <td>wickets</td>\n",
       "      <td>5.0</td>\n",
       "      <td>N</td>\n",
       "      <td>NaN</td>\n",
       "      <td>SJ Davis</td>\n",
       "      <td>DJ Harper</td>\n",
       "    </tr>\n",
       "    <tr>\n",
       "      <th>4</th>\n",
       "      <td>335986</td>\n",
       "      <td>Kolkata</td>\n",
       "      <td>2008-04-20</td>\n",
       "      <td>DJ Hussey</td>\n",
       "      <td>Eden Gardens</td>\n",
       "      <td>0</td>\n",
       "      <td>Kolkata Knight Riders</td>\n",
       "      <td>Deccan Chargers</td>\n",
       "      <td>Deccan Chargers</td>\n",
       "      <td>bat</td>\n",
       "      <td>Kolkata Knight Riders</td>\n",
       "      <td>wickets</td>\n",
       "      <td>5.0</td>\n",
       "      <td>N</td>\n",
       "      <td>NaN</td>\n",
       "      <td>BF Bowden</td>\n",
       "      <td>K Hariharan</td>\n",
       "    </tr>\n",
       "  </tbody>\n",
       "</table>\n",
       "</div>"
      ],
      "text/plain": [
       "       id        city        date player_of_match  \\\n",
       "0  335982   Bangalore  2008-04-18     BB McCullum   \n",
       "1  335983  Chandigarh  2008-04-19      MEK Hussey   \n",
       "2  335984       Delhi  2008-04-19     MF Maharoof   \n",
       "3  335985      Mumbai  2008-04-20      MV Boucher   \n",
       "4  335986     Kolkata  2008-04-20       DJ Hussey   \n",
       "\n",
       "                                        venue  neutral_venue  \\\n",
       "0                       M Chinnaswamy Stadium              0   \n",
       "1  Punjab Cricket Association Stadium, Mohali              0   \n",
       "2                            Feroz Shah Kotla              0   \n",
       "3                            Wankhede Stadium              0   \n",
       "4                                Eden Gardens              0   \n",
       "\n",
       "                         team1                        team2  \\\n",
       "0  Royal Challengers Bangalore        Kolkata Knight Riders   \n",
       "1              Kings XI Punjab          Chennai Super Kings   \n",
       "2             Delhi Daredevils             Rajasthan Royals   \n",
       "3               Mumbai Indians  Royal Challengers Bangalore   \n",
       "4        Kolkata Knight Riders              Deccan Chargers   \n",
       "\n",
       "                   toss_winner toss_decision                       winner  \\\n",
       "0  Royal Challengers Bangalore         field        Kolkata Knight Riders   \n",
       "1          Chennai Super Kings           bat          Chennai Super Kings   \n",
       "2             Rajasthan Royals           bat             Delhi Daredevils   \n",
       "3               Mumbai Indians           bat  Royal Challengers Bangalore   \n",
       "4              Deccan Chargers           bat        Kolkata Knight Riders   \n",
       "\n",
       "    result  result_margin eliminator method    umpire1         umpire2  \n",
       "0     runs          140.0          N    NaN  Asad Rauf     RE Koertzen  \n",
       "1     runs           33.0          N    NaN  MR Benson      SL Shastri  \n",
       "2  wickets            9.0          N    NaN  Aleem Dar  GA Pratapkumar  \n",
       "3  wickets            5.0          N    NaN   SJ Davis       DJ Harper  \n",
       "4  wickets            5.0          N    NaN  BF Bowden     K Hariharan  "
      ]
     },
     "execution_count": 2,
     "metadata": {},
     "output_type": "execute_result"
    }
   ],
   "source": [
    "data = pd.read_csv('IPL Matches 2008-2020.csv')\n",
    "\n",
    "data.head()"
   ]
  },
  {
   "cell_type": "code",
   "execution_count": 3,
   "id": "3faef7a4",
   "metadata": {},
   "outputs": [
    {
     "data": {
      "text/plain": [
       "<bound method DataFrame.info of           id        city        date player_of_match  \\\n",
       "0     335982   Bangalore  2008-04-18     BB McCullum   \n",
       "1     335983  Chandigarh  2008-04-19      MEK Hussey   \n",
       "2     335984       Delhi  2008-04-19     MF Maharoof   \n",
       "3     335985      Mumbai  2008-04-20      MV Boucher   \n",
       "4     335986     Kolkata  2008-04-20       DJ Hussey   \n",
       "..       ...         ...         ...             ...   \n",
       "811  1216547       Dubai  2020-09-28  AB de Villiers   \n",
       "812  1237177       Dubai  2020-11-05       JJ Bumrah   \n",
       "813  1237178   Abu Dhabi  2020-11-06   KS Williamson   \n",
       "814  1237180   Abu Dhabi  2020-11-08      MP Stoinis   \n",
       "815  1237181       Dubai  2020-11-10        TA Boult   \n",
       "\n",
       "                                          venue  neutral_venue  \\\n",
       "0                         M Chinnaswamy Stadium              0   \n",
       "1    Punjab Cricket Association Stadium, Mohali              0   \n",
       "2                              Feroz Shah Kotla              0   \n",
       "3                              Wankhede Stadium              0   \n",
       "4                                  Eden Gardens              0   \n",
       "..                                          ...            ...   \n",
       "811         Dubai International Cricket Stadium              0   \n",
       "812         Dubai International Cricket Stadium              0   \n",
       "813                        Sheikh Zayed Stadium              0   \n",
       "814                        Sheikh Zayed Stadium              0   \n",
       "815         Dubai International Cricket Stadium              0   \n",
       "\n",
       "                           team1                        team2  \\\n",
       "0    Royal Challengers Bangalore        Kolkata Knight Riders   \n",
       "1                Kings XI Punjab          Chennai Super Kings   \n",
       "2               Delhi Daredevils             Rajasthan Royals   \n",
       "3                 Mumbai Indians  Royal Challengers Bangalore   \n",
       "4          Kolkata Knight Riders              Deccan Chargers   \n",
       "..                           ...                          ...   \n",
       "811  Royal Challengers Bangalore               Mumbai Indians   \n",
       "812               Mumbai Indians               Delhi Capitals   \n",
       "813  Royal Challengers Bangalore          Sunrisers Hyderabad   \n",
       "814               Delhi Capitals          Sunrisers Hyderabad   \n",
       "815               Delhi Capitals               Mumbai Indians   \n",
       "\n",
       "                     toss_winner toss_decision                       winner  \\\n",
       "0    Royal Challengers Bangalore         field        Kolkata Knight Riders   \n",
       "1            Chennai Super Kings           bat          Chennai Super Kings   \n",
       "2               Rajasthan Royals           bat             Delhi Daredevils   \n",
       "3                 Mumbai Indians           bat  Royal Challengers Bangalore   \n",
       "4                Deccan Chargers           bat        Kolkata Knight Riders   \n",
       "..                           ...           ...                          ...   \n",
       "811               Mumbai Indians         field  Royal Challengers Bangalore   \n",
       "812               Delhi Capitals         field               Mumbai Indians   \n",
       "813          Sunrisers Hyderabad         field          Sunrisers Hyderabad   \n",
       "814               Delhi Capitals           bat               Delhi Capitals   \n",
       "815               Delhi Capitals           bat               Mumbai Indians   \n",
       "\n",
       "      result  result_margin eliminator method      umpire1         umpire2  \n",
       "0       runs          140.0          N    NaN    Asad Rauf     RE Koertzen  \n",
       "1       runs           33.0          N    NaN    MR Benson      SL Shastri  \n",
       "2    wickets            9.0          N    NaN    Aleem Dar  GA Pratapkumar  \n",
       "3    wickets            5.0          N    NaN     SJ Davis       DJ Harper  \n",
       "4    wickets            5.0          N    NaN    BF Bowden     K Hariharan  \n",
       "..       ...            ...        ...    ...          ...             ...  \n",
       "811      tie            NaN          Y    NaN  Nitin Menon      PR Reiffel  \n",
       "812     runs           57.0          N    NaN  CB Gaffaney     Nitin Menon  \n",
       "813  wickets            6.0          N    NaN   PR Reiffel          S Ravi  \n",
       "814     runs           17.0          N    NaN   PR Reiffel          S Ravi  \n",
       "815  wickets            5.0          N    NaN  CB Gaffaney     Nitin Menon  \n",
       "\n",
       "[816 rows x 17 columns]>"
      ]
     },
     "execution_count": 3,
     "metadata": {},
     "output_type": "execute_result"
    }
   ],
   "source": [
    "data.info"
   ]
  },
  {
   "cell_type": "code",
   "execution_count": 4,
   "id": "7a73b0e7",
   "metadata": {},
   "outputs": [
    {
     "data": {
      "text/plain": [
       "array(['Royal Challengers Bangalore', 'Kings XI Punjab',\n",
       "       'Delhi Daredevils', 'Mumbai Indians', 'Kolkata Knight Riders',\n",
       "       'Rajasthan Royals', 'Deccan Chargers', 'Chennai Super Kings',\n",
       "       'Kochi Tuskers Kerala', 'Pune Warriors', 'Sunrisers Hyderabad',\n",
       "       'Gujarat Lions', 'Rising Pune Supergiants',\n",
       "       'Rising Pune Supergiant', 'Delhi Capitals'], dtype=object)"
      ]
     },
     "execution_count": 4,
     "metadata": {},
     "output_type": "execute_result"
    }
   ],
   "source": [
    "# Get unique values in the 'team1' column\n",
    "data['team1'].unique()"
   ]
  },
  {
   "cell_type": "code",
   "execution_count": 5,
   "id": "0cc9b18d",
   "metadata": {},
   "outputs": [
    {
     "data": {
      "text/plain": [
       "array(['Kolkata Knight Riders', 'Chennai Super Kings', 'Rajasthan Royals',\n",
       "       'Royal Challengers Bangalore', 'Deccan Chargers',\n",
       "       'Kings XI Punjab', 'Delhi Daredevils', 'Mumbai Indians',\n",
       "       'Kochi Tuskers Kerala', 'Pune Warriors', 'Sunrisers Hyderabad',\n",
       "       'Rising Pune Supergiants', 'Gujarat Lions',\n",
       "       'Rising Pune Supergiant', 'Delhi Capitals'], dtype=object)"
      ]
     },
     "execution_count": 5,
     "metadata": {},
     "output_type": "execute_result"
    }
   ],
   "source": [
    "# Get unique values in the 'team2' column\n",
    "data['team2'].unique()"
   ]
  },
  {
   "cell_type": "code",
   "execution_count": 6,
   "id": "daf6c1d9",
   "metadata": {},
   "outputs": [],
   "source": [
    "# Replacing 'Rising Pune Supergiants' with 'Rising Pune Supergiant' in the 'team1', 'team2', 'winner', and 'toss_winner' columns.\n",
    "data.team1.replace({'Rising Pune Supergiants': 'Rising Pune Supergiant'}, regex=True, inplace=True)\n",
    "data.team2.replace({'Rising Pune Supergiants': 'Rising Pune Supergiant'}, regex=True, inplace=True)\n",
    "data.winner.replace({'Rising Pune Supergiants': 'Rising Pune Supergiant'}, regex=True, inplace=True)\n",
    "data.toss_winner.replace({'Rising Pune Supergiants': 'Rising Pune Supergiant'}, regex=True, inplace=True)"
   ]
  },
  {
   "cell_type": "code",
   "execution_count": 7,
   "id": "33c1c9d6",
   "metadata": {},
   "outputs": [],
   "source": [
    "# Replacing 'Deccan Chargers' with 'Sunrisers Hyderabad' in the 'team1', 'team2', 'winner', and 'toss_winner' columns.\n",
    "data.team1.replace({'Deccan Chargers': 'Sunrisers Hyderabad'}, regex=True, inplace=True)\n",
    "data.team2.replace({'Deccan Chargers': 'Sunrisers Hyderabad'}, regex=True, inplace=True)\n",
    "data.winner.replace({'Deccan Chargers': 'Sunrisers Hyderabad'}, regex=True, inplace=True)\n",
    "data.toss_winner.replace({'Deccan Chargers': 'Sunrisers Hyderabad'}, regex=True, inplace=True)"
   ]
  },
  {
   "cell_type": "code",
   "execution_count": 8,
   "id": "1b87e248",
   "metadata": {},
   "outputs": [],
   "source": [
    "# Replacing 'Delhi Daredevils' with 'Delhi Capitals' in the 'team1', 'team2', 'winner', and 'toss_winner' columns.\n",
    "data.team1.replace({'Delhi Daredevils': 'Delhi Capitals'}, regex=True, inplace=True)\n",
    "data.team2.replace({'Delhi Daredevils': 'Delhi Capitals'}, regex=True, inplace=True)\n",
    "data.winner.replace({'Delhi Daredevils': 'Delhi Capitals'}, regex=True, inplace=True)\n",
    "data.toss_winner.replace({'Delhi Daredevils': 'Delhi Capitals'}, regex=True, inplace=True)"
   ]
  },
  {
   "cell_type": "code",
   "execution_count": 9,
   "id": "06cbf67e",
   "metadata": {},
   "outputs": [],
   "source": [
    "# Replacing 'Pune Warriors' with 'Rising Pune Supergiant' in the 'team1', 'team2', 'winner', and 'toss_winner' columns.\n",
    "data.team1.replace({'Pune Warriors': 'Rising Pune Supergiant'}, regex=True, inplace=True)\n",
    "data.team2.replace({'Pune Warriors': 'Rising Pune Supergiant'}, regex=True, inplace=True)\n",
    "data.winner.replace({'Pune Warriors': 'Rising Pune Supergiant'}, regex=True, inplace=True)\n",
    "data.toss_winner.replace({'Pune Warriors': 'Rising Pune Supergiant'}, regex=True, inplace=True)"
   ]
  },
  {
   "cell_type": "code",
   "execution_count": 10,
   "id": "a52dffdd",
   "metadata": {},
   "outputs": [
    {
     "data": {
      "text/plain": [
       "id                   0\n",
       "city                13\n",
       "date                 0\n",
       "player_of_match      4\n",
       "venue                0\n",
       "neutral_venue        0\n",
       "team1                0\n",
       "team2                0\n",
       "toss_winner          0\n",
       "toss_decision        0\n",
       "winner               4\n",
       "result               4\n",
       "result_margin       17\n",
       "eliminator           4\n",
       "method             797\n",
       "umpire1              0\n",
       "umpire2              0\n",
       "dtype: int64"
      ]
     },
     "execution_count": 10,
     "metadata": {},
     "output_type": "execute_result"
    }
   ],
   "source": [
    "# To count the null values\n",
    "data.isnull().sum()"
   ]
  },
  {
   "cell_type": "code",
   "execution_count": 11,
   "id": "fa7dd113",
   "metadata": {},
   "outputs": [],
   "source": [
    "# Fill missing values in 'city' column with 'Unknown'\n",
    "data['city'].fillna('Unknown', inplace=True)"
   ]
  },
  {
   "cell_type": "code",
   "execution_count": 12,
   "id": "91c6c527",
   "metadata": {},
   "outputs": [],
   "source": [
    "# Fill missing values in 'player_of_match', 'result', and 'eliminator' columns with 'Not Available'\n",
    "cols_to_fill = ['player_of_match', 'result', 'eliminator']\n",
    "data[cols_to_fill] = data[cols_to_fill].fillna('Not Available')"
   ]
  },
  {
   "cell_type": "code",
   "execution_count": 13,
   "id": "82b226ed",
   "metadata": {},
   "outputs": [],
   "source": [
    "# Calculate the mean of the 'result_margin' column\n",
    "mean_result_margin = data['result_margin'].mean()\n",
    "\n",
    "# Fill missing values in 'result_margin' column with the mean\n",
    "data['result_margin'].fillna(mean_result_margin, inplace=True)"
   ]
  },
  {
   "cell_type": "code",
   "execution_count": 14,
   "id": "ffce405c",
   "metadata": {},
   "outputs": [],
   "source": [
    "# To drop the unwanted columns\n",
    "data.drop(['id','method'],axis=1,inplace=True)"
   ]
  },
  {
   "cell_type": "code",
   "execution_count": 15,
   "id": "c88ec7a9",
   "metadata": {},
   "outputs": [],
   "source": [
    "# Drop rows with missing values in the 'winner' column\n",
    "data.dropna(subset=['winner'], inplace=True)"
   ]
  },
  {
   "cell_type": "code",
   "execution_count": 16,
   "id": "fd11a8a9",
   "metadata": {},
   "outputs": [
    {
     "data": {
      "text/plain": [
       "city               0\n",
       "date               0\n",
       "player_of_match    0\n",
       "venue              0\n",
       "neutral_venue      0\n",
       "team1              0\n",
       "team2              0\n",
       "toss_winner        0\n",
       "toss_decision      0\n",
       "winner             0\n",
       "result             0\n",
       "result_margin      0\n",
       "eliminator         0\n",
       "umpire1            0\n",
       "umpire2            0\n",
       "dtype: int64"
      ]
     },
     "execution_count": 16,
     "metadata": {},
     "output_type": "execute_result"
    }
   ],
   "source": [
    "# To count the null values\n",
    "data.isnull().sum()"
   ]
  },
  {
   "cell_type": "code",
   "execution_count": 17,
   "id": "a32784d4",
   "metadata": {},
   "outputs": [],
   "source": [
    "# Convert the 'date' column to datetime format\n",
    "data['date'] = pd.to_datetime(data['date'])\n",
    "\n",
    "# Extract the year from the 'date' column and create a new 'season' column\n",
    "data['season'] = pd.DatetimeIndex(data['date']).year"
   ]
  },
  {
   "cell_type": "code",
   "execution_count": 18,
   "id": "97f9aede",
   "metadata": {},
   "outputs": [
    {
     "data": {
      "text/plain": [
       "array(['M Chinnaswamy Stadium',\n",
       "       'Punjab Cricket Association Stadium, Mohali', 'Feroz Shah Kotla',\n",
       "       'Wankhede Stadium', 'Eden Gardens', 'Sawai Mansingh Stadium',\n",
       "       'Rajiv Gandhi International Stadium, Uppal',\n",
       "       'MA Chidambaram Stadium, Chepauk', 'Dr DY Patil Sports Academy',\n",
       "       'Newlands', \"St George's Park\", 'Kingsmead', 'SuperSport Park',\n",
       "       'Buffalo Park', 'New Wanderers Stadium', 'De Beers Diamond Oval',\n",
       "       'OUTsurance Oval', 'Brabourne Stadium',\n",
       "       'Sardar Patel Stadium, Motera', 'Barabati Stadium',\n",
       "       'Vidarbha Cricket Association Stadium, Jamtha',\n",
       "       'Himachal Pradesh Cricket Association Stadium', 'Nehru Stadium',\n",
       "       'Holkar Cricket Stadium',\n",
       "       'Dr. Y.S. Rajasekhara Reddy ACA-VDCA Cricket Stadium',\n",
       "       'Subrata Roy Sahara Stadium',\n",
       "       'Shaheed Veer Narayan Singh International Stadium',\n",
       "       'JSCA International Stadium Complex', 'Sheikh Zayed Stadium',\n",
       "       'Sharjah Cricket Stadium', 'Dubai International Cricket Stadium',\n",
       "       'Maharashtra Cricket Association Stadium',\n",
       "       'Punjab Cricket Association IS Bindra Stadium, Mohali',\n",
       "       'Saurashtra Cricket Association Stadium', 'Green Park',\n",
       "       'M.Chinnaswamy Stadium'], dtype=object)"
      ]
     },
     "execution_count": 18,
     "metadata": {},
     "output_type": "execute_result"
    }
   ],
   "source": [
    "# Get the unique venues present in the 'venue' column\n",
    "data['venue'].unique()"
   ]
  },
  {
   "cell_type": "code",
   "execution_count": 19,
   "id": "6a13108b",
   "metadata": {},
   "outputs": [
    {
     "data": {
      "image/png": "[encoded data removed]",
      "text/plain": [
       "<Figure size 720x432 with 1 Axes>"
      ]
     },
     "metadata": {
      "needs_background": "light"
     },
     "output_type": "display_data"
    }
   ],
   "source": [
    "# Create a figure of size 10x6 inches for the plot\n",
    "plt.figure(figsize=(10, 6))\n",
    "\n",
    "# Use Seaborn's countplot to plot the number of matches played at each venue\n",
    "# The 'x' parameter is set to 'venue', and 'data' specifies the DataFrame to use for plotting\n",
    "sns.countplot(x='venue', data=data)\n",
    "\n",
    "# Rotate the x-axis labels by 90 degrees for better visibility\n",
    "plt.xticks(rotation=90)\n",
    "\n",
    "# Add labels for x and y axes\n",
    "plt.xlabel('Venue')\n",
    "plt.ylabel('Count')\n",
    "\n",
    "# Add a title to the plot\n",
    "plt.title('Matches Count by Venue')\n",
    "plt.show()"
   ]
  },
  {
   "cell_type": "code",
   "execution_count": 20,
   "id": "6690d781",
   "metadata": {},
   "outputs": [],
   "source": [
    "# Extracting day, month, and year from the 'date' column\n",
    "data['day'] = data['date'].dt.day\n",
    "data['month'] = data['date'].dt.month\n",
    "data['year'] = data['date'].dt.year"
   ]
  },
  {
   "cell_type": "code",
   "execution_count": 21,
   "id": "6c973dc8",
   "metadata": {},
   "outputs": [
    {
     "data": {
      "text/plain": [
       "Index(['city', 'date', 'player_of_match', 'venue', 'neutral_venue', 'team1',\n",
       "       'team2', 'toss_winner', 'toss_decision', 'winner', 'result',\n",
       "       'result_margin', 'eliminator', 'umpire1', 'umpire2', 'season', 'day',\n",
       "       'month', 'year'],\n",
       "      dtype='object')"
      ]
     },
     "execution_count": 21,
     "metadata": {},
     "output_type": "execute_result"
    }
   ],
   "source": [
    "data.columns"
   ]
  },
  {
   "cell_type": "code",
   "execution_count": 22,
   "id": "83e23c97",
   "metadata": {},
   "outputs": [],
   "source": [
    "# Create a dictionary to map team names to unique numbers\n",
    "team_mapping = {\n",
    "    'Kolkata Knight Riders': 1,\n",
    "    'Chennai Super Kings': 2,\n",
    "    'Delhi Capitals': 3,\n",
    "    'Royal Challengers Bangalore': 4,\n",
    "    'Rajasthan Royals': 5,\n",
    "    'Kings XI Punjab': 6,\n",
    "    'Sunrisers Hyderabad': 7,\n",
    "    'Mumbai Indians': 8,\n",
    "    'Rising Pune Supergiant': 9,\n",
    "    'Kochi Tuskers Kerala': 10,\n",
    "    'Gujarat Lions': 11\n",
    "}"
   ]
  },
  {
   "cell_type": "code",
   "execution_count": 23,
   "id": "78fd50e8",
   "metadata": {},
   "outputs": [],
   "source": [
    "# Replace team names in 'team1' and 'team2' columns with unique numbers\n",
    "data['team1'] = data['team1'].map(team_mapping)\n",
    "data['team2'] = data['team2'].map(team_mapping)"
   ]
  },
  {
   "cell_type": "code",
   "execution_count": 24,
   "id": "d876a6e2",
   "metadata": {},
   "outputs": [],
   "source": [
    "# Replace winner names in 'winner' column with unique numbers\n",
    "data['winner'] = data['winner'].map(team_mapping)\n",
    "data['toss_winner'] = data['toss_winner'].map(team_mapping)"
   ]
  },
  {
   "cell_type": "code",
   "execution_count": 25,
   "id": "b53abb83",
   "metadata": {},
   "outputs": [],
   "source": [
    "# Create a dictionary to map each unique venue name to a unique number\n",
    "venue_mapping = {venue: i for i, venue in enumerate(data['venue'].unique())}"
   ]
  },
  {
   "cell_type": "code",
   "execution_count": 26,
   "id": "40a463e5",
   "metadata": {},
   "outputs": [],
   "source": [
    "# Replace the venue names in the 'venue' column with the corresponding unique numbers\n",
    "data['venue'] = data['venue'].map(venue_mapping)"
   ]
  },
  {
   "cell_type": "code",
   "execution_count": 27,
   "id": "da216595",
   "metadata": {},
   "outputs": [],
   "source": [
    "# Create a dictionary to map 'toss_decision' values to numerical values\n",
    "temp = {'field': 0, 'bat': 1}"
   ]
  },
  {
   "cell_type": "code",
   "execution_count": 28,
   "id": "9d56b95e",
   "metadata": {},
   "outputs": [],
   "source": [
    "# Use the map() function to replace 'toss_decision' values with numerical values\n",
    "data['toss_decision'] = data['toss_decision'].map(temp)"
   ]
  },
  {
   "cell_type": "code",
   "execution_count": 29,
   "id": "af43aebf",
   "metadata": {},
   "outputs": [],
   "source": [
    "# Create a set of unique umpires\n",
    "umpires_set = set(data['umpire1'].unique()).union(set(data['umpire2'].unique()))\n",
    "\n",
    "# Create a dictionary to map umpire names to unique numbers\n",
    "umpire_dict = {umpire: i for i, umpire in enumerate(umpires_set, 1)}\n",
    "\n",
    "# Apply the dictionary to create new encoded columns for 'umpire1' and 'umpire2'\n",
    "data['umpire1'] = data['umpire1'].map(umpire_dict)\n",
    "data['umpire2'] = data['umpire2'].map(umpire_dict)"
   ]
  },
  {
   "cell_type": "code",
   "execution_count": 30,
   "id": "7ff54092",
   "metadata": {},
   "outputs": [],
   "source": [
    "# Create a dictionary to map each unique venue name to a unique number\n",
    "player_of_match_mapping = {venue: i for i, venue in enumerate(data['player_of_match'].unique())}\n",
    "\n",
    "# Replace the venue names in the 'venue' column with the corresponding unique numbers\n",
    "data['player_of_match'] = data['player_of_match'].map(player_of_match_mapping)"
   ]
  },
  {
   "cell_type": "code",
   "execution_count": 31,
   "id": "bde7179b",
   "metadata": {},
   "outputs": [],
   "source": [
    "# Create a dictionary to map each unique venue name to a unique number\n",
    "city_mapping = {venue: i for i, venue in enumerate(data['city'].unique())}\n",
    "\n",
    "# Replace the venue names in the 'venue' column with the corresponding unique numbers\n",
    "data['city'] = data['city'].map(city_mapping)"
   ]
  },
  {
   "cell_type": "code",
   "execution_count": 32,
   "id": "588e6a4d",
   "metadata": {},
   "outputs": [],
   "source": [
    "# List of unwanted columns\n",
    "unwanted_columns = ['date', 'result', 'eliminator', 'season', 'day', 'month', 'year']\n",
    "\n",
    "# Drop the unwanted columns from the DataFrame\n",
    "data.drop(columns=unwanted_columns, inplace=True)"
   ]
  },
  {
   "cell_type": "code",
   "execution_count": 33,
   "id": "cec56032",
   "metadata": {},
   "outputs": [],
   "source": [
    "# Split the data into features (X) and the target variable (y)\n",
    "X = data.drop(['winner', 'player_of_match', 'neutral_venue', 'result_margin', 'umpire1', 'umpire2'], axis=1)\n",
    "y = data['winner']"
   ]
  },
  {
   "cell_type": "code",
   "execution_count": 60,
   "id": "4be00ed0",
   "metadata": {},
   "outputs": [],
   "source": [
    "# Split the data into training and testing sets (80% training, 20% testing)\n",
    "X_train, X_test, y_train, y_test = train_test_split(X, y, test_size=0.2, random_state=42)"
   ]
  },
  {
   "cell_type": "code",
   "execution_count": 78,
   "id": "fd7ba92a",
   "metadata": {},
   "outputs": [
    {
     "data": {
      "text/plain": [
       "RandomForestClassifier(n_estimators=20)"
      ]
     },
     "execution_count": 78,
     "metadata": {},
     "output_type": "execute_result"
    }
   ],
   "source": [
    "# Initialize the logistic regression model\n",
    "model = RandomForestClassifier(n_estimators=20)\n",
    "\n",
    "# Train the model on the training data\n",
    "model.fit(X_train, y_train)"
   ]
  },
  {
   "cell_type": "code",
   "execution_count": 79,
   "id": "d4202046",
   "metadata": {},
   "outputs": [
    {
     "name": "stdout",
     "output_type": "stream",
     "text": [
      "Accuracy: 0.4662576687116564\n"
     ]
    }
   ],
   "source": [
    "# Make predictions on the testing data\n",
    "y_pred = model.predict(X_test)\n",
    "\n",
    "# Evaluate the model's performance using accuracy as an example\n",
    "accuracy = accuracy_score(y_test, y_pred)\n",
    "print(\"Accuracy:\", accuracy)"
   ]
  },
  {
   "cell_type": "code",
   "execution_count": 80,
   "id": "6c1830c5",
   "metadata": {},
   "outputs": [],
   "source": [
    "def get_user_input():\n",
    "    City = input('Name the city of the match: ')\n",
    "    Venue = input('Name of the Ground: ')\n",
    "    Team1 = input('Home Team: ')\n",
    "    Team2 = input('Away Team: ')\n",
    "    Toss_winner = input('Toss winning team: ')\n",
    "    Toss_decision = input('Toss decision: ')\n",
    "    # Display the user input and win probability for Team 1\n",
    "    print(\"\\n\\nUser Input:\")\n",
    "    print(f\"City: {City}\")\n",
    "    print(f\"Venue: {Venue}\")\n",
    "    print(f\"Team 1: {Team1}\")\n",
    "    print(f\"Team 2: {Team2}\")\n",
    "    print(f\"Toss Winner: {Toss_winner}\")\n",
    "    print(f\"Toss Decision: {Toss_decision}\")\n",
    "    print(\"\\n\")\n",
    "    # Map user input to numerical forms based on the mappings\n",
    "    city_numeric = city_mapping.get(City, -1)\n",
    "    venue_numeric = venue_mapping.get(Venue, -1)\n",
    "    team1_numeric = team_mapping.get(Team1,-1)\n",
    "    team2_numeric = team_mapping.get(Team2,-1)\n",
    "    toss_winner_numeric = team_mapping.get(Toss_winner,-1)\n",
    "    toss_decision_numeric = temp.get(Toss_decision,-1)\n",
    "    user_data = pd.DataFrame({\n",
    "        'city': [city_numeric],\n",
    "        'venue': [venue_numeric],\n",
    "        'team1': [team1_numeric],\n",
    "        'team2': [team2_numeric],\n",
    "        'toss_winner': [toss_winner_numeric],\n",
    "        'toss_decision': [toss_decision_numeric]\n",
    "    })\n",
    "\n",
    "    return user_data"
   ]
  },
  {
   "cell_type": "code",
   "execution_count": 81,
   "id": "125d11e1",
   "metadata": {},
   "outputs": [],
   "source": [
    "# Function to make predictions on user input\n",
    "def make_predictions(user_data):\n",
    "    # Make predictions on the user input data\n",
    "    predictions = model.predict(user_data)\n",
    "\n",
    "    # Get the probability of winning for the 1st team (team1)\n",
    "    win_probability_team1 = predictions[0]\n",
    "\n",
    "    # Convert probability to percentage\n",
    "    win_probability_percentage_team1 = win_probability_team1 * 10\n",
    "\n",
    "    return win_probability_percentage_team1"
   ]
  },
  {
   "cell_type": "code",
   "execution_count": 82,
   "id": "55130b9a",
   "metadata": {},
   "outputs": [],
   "source": [
    "# Main function to run the predictive system\n",
    "def main():\n",
    "    print(\"Welcome to the IPL Match Winner Predictor!\")\n",
    "\n",
    "    #while True:\n",
    "    user_data = get_user_input()\n",
    "    win_probability_team1 = make_predictions(user_data)\n",
    "\n",
    "    # Display the win probability for the 1st team (team1)\n",
    "    print(f\"Win Probability for Team 1: {win_probability_team1:.2f}%\")\n",
    "    win_probability_team2 = 100-win_probability_team1\n",
    "    print(f\"Win Probability for Team 2: {win_probability_team2:.2f}%\")\n",
    "    print(\"\\n\\nThank you for using the IPL Match Winner Predictor!\")"
   ]
  },
  {
   "cell_type": "code",
   "execution_count": 84,
   "id": "2b1ef1de",
   "metadata": {},
   "outputs": [
    {
     "name": "stdout",
     "output_type": "stream",
     "text": [
      "Welcome to the IPL Match Winner Predictor!\n",
      "Name the city of the match: Bangalore\n",
      "Name of the Ground: M Chinnaswamy Stadium\n",
      "Home Team: Royal Challengers Bangalore\n",
      "Away Team: Kolkata Knight Riders\n",
      "Toss winning team: Royal Challengers Bangalore\n",
      "Toss decision: Field\n",
      "\n",
      "\n",
      "User Input:\n",
      "City: Bangalore\n",
      "Venue: M Chinnaswamy Stadium\n",
      "Team 1: Royal Challengers Bangalore\n",
      "Team 2: Kolkata Knight Riders\n",
      "Toss Winner: Royal Challengers Bangalore\n",
      "Toss Decision: Field\n",
      "\n",
      "\n",
      "Win Probability for Team 1: 40.00%\n",
      "Win Probability for Team 2: 60.00%\n",
      "\n",
      "\n",
      "Thank you for using the IPL Match Winner Predictor!\n"
     ]
    }
   ],
   "source": [
    "main()"
   ]
  },
  {
   "cell_type": "code",
   "execution_count": null,
   "id": "db8b0351",
   "metadata": {},
   "outputs": [],
   "source": []
  }
 ],
 "metadata": {
  "kernelspec": {
   "display_name": "Python 3 (ipykernel)",
   "language": "python",
   "name": "python3"
  },
  "language_info": {
   "codemirror_mode": {
    "name": "ipython",
    "version": 3
   },
   "file_extension": ".py",
   "mimetype": "text/x-python",
   "name": "python",
   "nbconvert_exporter": "python",
   "pygments_lexer": "ipython3",
   "version": "3.9.1"
  }
 },
 "nbformat": 4,
 "nbformat_minor": 5
}
